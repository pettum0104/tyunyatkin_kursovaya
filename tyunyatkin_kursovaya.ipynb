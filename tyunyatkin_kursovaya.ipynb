{
 "cells": [
  {
   "cell_type": "code",
   "execution_count": 1,
   "id": "06124c82",
   "metadata": {},
   "outputs": [
    {
     "data": {
      "text/html": [
       "<div>\n",
       "<style scoped>\n",
       "    .dataframe tbody tr th:only-of-type {\n",
       "        vertical-align: middle;\n",
       "    }\n",
       "\n",
       "    .dataframe tbody tr th {\n",
       "        vertical-align: top;\n",
       "    }\n",
       "\n",
       "    .dataframe thead th {\n",
       "        text-align: right;\n",
       "    }\n",
       "</style>\n",
       "<table border=\"1\" class=\"dataframe\">\n",
       "  <thead>\n",
       "    <tr style=\"text-align: right;\">\n",
       "      <th></th>\n",
       "      <th>text_type</th>\n",
       "      <th>text</th>\n",
       "    </tr>\n",
       "  </thead>\n",
       "  <tbody>\n",
       "    <tr>\n",
       "      <th>0</th>\n",
       "      <td>ham</td>\n",
       "      <td>make sure alex knows his birthday is over in f...</td>\n",
       "    </tr>\n",
       "    <tr>\n",
       "      <th>1</th>\n",
       "      <td>ham</td>\n",
       "      <td>a resume for john lavorato thanks vince i will...</td>\n",
       "    </tr>\n",
       "    <tr>\n",
       "      <th>2</th>\n",
       "      <td>spam</td>\n",
       "      <td>plzz visit my website moviesgodml to get all m...</td>\n",
       "    </tr>\n",
       "    <tr>\n",
       "      <th>3</th>\n",
       "      <td>spam</td>\n",
       "      <td>urgent your mobile number has been awarded wit...</td>\n",
       "    </tr>\n",
       "    <tr>\n",
       "      <th>4</th>\n",
       "      <td>ham</td>\n",
       "      <td>overview of hr associates analyst project per ...</td>\n",
       "    </tr>\n",
       "    <tr>\n",
       "      <th>...</th>\n",
       "      <td>...</td>\n",
       "      <td>...</td>\n",
       "    </tr>\n",
       "    <tr>\n",
       "      <th>16273</th>\n",
       "      <td>spam</td>\n",
       "      <td>if you are interested in binary options tradin...</td>\n",
       "    </tr>\n",
       "    <tr>\n",
       "      <th>16274</th>\n",
       "      <td>spam</td>\n",
       "      <td>dirty pictureblyk on aircel thanks you for bei...</td>\n",
       "    </tr>\n",
       "    <tr>\n",
       "      <th>16275</th>\n",
       "      <td>ham</td>\n",
       "      <td>or you could do this g on mon 1635465 sep 1635...</td>\n",
       "    </tr>\n",
       "    <tr>\n",
       "      <th>16276</th>\n",
       "      <td>ham</td>\n",
       "      <td>insta reels par 80 गंद bhara pada hai 👀 kuch b...</td>\n",
       "    </tr>\n",
       "    <tr>\n",
       "      <th>16277</th>\n",
       "      <td>ham</td>\n",
       "      <td>alex s paper comments 1 in the sentence betwee...</td>\n",
       "    </tr>\n",
       "  </tbody>\n",
       "</table>\n",
       "<p>16278 rows × 2 columns</p>\n",
       "</div>"
      ],
      "text/plain": [
       "      text_type                                               text\n",
       "0           ham  make sure alex knows his birthday is over in f...\n",
       "1           ham  a resume for john lavorato thanks vince i will...\n",
       "2          spam  plzz visit my website moviesgodml to get all m...\n",
       "3          spam  urgent your mobile number has been awarded wit...\n",
       "4           ham  overview of hr associates analyst project per ...\n",
       "...         ...                                                ...\n",
       "16273      spam  if you are interested in binary options tradin...\n",
       "16274      spam  dirty pictureblyk on aircel thanks you for bei...\n",
       "16275       ham  or you could do this g on mon 1635465 sep 1635...\n",
       "16276       ham  insta reels par 80 गंद bhara pada hai 👀 kuch b...\n",
       "16277       ham  alex s paper comments 1 in the sentence betwee...\n",
       "\n",
       "[16278 rows x 2 columns]"
      ]
     },
     "execution_count": 1,
     "metadata": {},
     "output_type": "execute_result"
    }
   ],
   "source": [
    "import pandas as pd\n",
    "import numpy as np\n",
    "import re\n",
    "import warnings\n",
    "warnings.simplefilter(\"ignore\")\n",
    "from IPython.core.display import HTML, display\n",
    "\n",
    "train = pd.read_csv('train_spam.csv', encoding='utf8')\n",
    "train"
   ]
  },
  {
   "cell_type": "code",
   "execution_count": 2,
   "id": "a904b6d1",
   "metadata": {},
   "outputs": [
    {
     "data": {
      "text/plain": [
       "((11394,), (4884,), (11394,), (4884,))"
      ]
     },
     "execution_count": 2,
     "metadata": {},
     "output_type": "execute_result"
    }
   ],
   "source": [
    "from sklearn.model_selection import train_test_split\n",
    "\n",
    "train[\"text_type\"] = train[\"text_type\"].apply(lambda x: 1 if x=='spam' else 0)\n",
    "X, y = train[\"text\"], train[\"text_type\"]\n",
    "X_train, X_test, y_train, y_test = train_test_split(X, y, test_size=0.3, random_state=0)\n",
    "X_train.shape, X_test.shape, y_train.shape, y_test.shape"
   ]
  },
  {
   "cell_type": "code",
   "execution_count": 3,
   "id": "534afb75",
   "metadata": {},
   "outputs": [
    {
     "data": {
      "text/plain": [
       "text_type\n",
       "0    11469\n",
       "1     4809\n",
       "Name: count, dtype: int64"
      ]
     },
     "execution_count": 3,
     "metadata": {},
     "output_type": "execute_result"
    }
   ],
   "source": [
    "y.value_counts()"
   ]
  },
  {
   "cell_type": "code",
   "execution_count": 4,
   "id": "65117333",
   "metadata": {},
   "outputs": [
    {
     "data": {
      "text/plain": [
       "text_type\n",
       "0    3475\n",
       "1    1409\n",
       "Name: count, dtype: int64"
      ]
     },
     "execution_count": 4,
     "metadata": {},
     "output_type": "execute_result"
    }
   ],
   "source": [
    "y_test.value_counts()"
   ]
  },
  {
   "cell_type": "code",
   "execution_count": 5,
   "id": "154e1e6e",
   "metadata": {},
   "outputs": [
    {
     "data": {
      "text/plain": [
       "((11394, 43830), (4884, 43830))"
      ]
     },
     "execution_count": 5,
     "metadata": {},
     "output_type": "execute_result"
    }
   ],
   "source": [
    "from sklearn.feature_extraction.text import CountVectorizer\n",
    "\n",
    "vectorizer = CountVectorizer()\n",
    "X_train_vect = vectorizer.fit_transform(X_train)\n",
    "X_test_vect = vectorizer.transform(X_test)\n",
    "X_train_vect.shape, X_test_vect.shape"
   ]
  },
  {
   "cell_type": "code",
   "execution_count": 8,
   "id": "8c2d0df2",
   "metadata": {},
   "outputs": [
    {
     "name": "stdout",
     "output_type": "stream",
     "text": [
      "Train accuracy: 0.9942074776197999 Test accuracy: 0.9443079443079443\n"
     ]
    }
   ],
   "source": [
    "from sklearn.linear_model import LogisticRegression\n",
    "from sklearn.metrics import accuracy_score\n",
    "\n",
    "clf = LogisticRegression(random_state=0)\n",
    "clf.fit(X_train_vect, y_train)\n",
    "predicted = clf.predict(X_test_vect)\n",
    "\n",
    "print('Train accuracy:', accuracy_score(y_train, clf.predict(X_train_vect)), \n",
    "      'Test accuracy:', accuracy_score(y_test, predicted))"
   ]
  },
  {
   "cell_type": "code",
   "execution_count": 7,
   "id": "2df4004e",
   "metadata": {},
   "outputs": [
    {
     "name": "stdout",
     "output_type": "stream",
     "text": [
      "spam: True\n"
     ]
    },
    {
     "data": {
      "text/html": [
       "\n",
       "    <p style=\"font-size:16px; color:#000000; border: 2px solid #000; text-align: justify; background-color:#ffffff; border-radius: 25px; padding: 20px;\">\n",
       "    <span style=\"background-color: #ff9494\"; title=\"1.04\">hello</span> <span style=\"background-color: #ffd0d0\"; title=\"0.45\">investors</span> <span style=\"background-color: #ffacac\"; title=\"0.81\">worldwide</span> <span style=\"background-color: #fff1f1\"; title=\"0.14\">please</span> <span style=\"background-color: #e3e3ff\"; title=\"-0.25\">note</span> <span style=\"background-color: #ffeded\"; title=\"0.17\">this</span> <span style=\"background-color: #ffdede\"; title=\"0.31\">promo</span> <span style=\"background-color: #fffcfc\"; title=\"0.03\">is</span> <span style=\"background-color: #ffd3d3\"; title=\"0.43\">for</span> <span style=\"background-color: #f3f3ff\"; title=\"-0.10\">those</span> <span style=\"background-color: #ffb8b8\"; title=\"0.69\">who</span> <span style=\"background-color: #f6f6ff\"; title=\"-0.08\">want</span> <span style=\"background-color: #fff2f2\"; title=\"0.13\">to</span> <span style=\"background-color: #ffdfdf\"; title=\"0.30\">us</span> <span style=\"background-color: #ffd5d5\"; title=\"0.40\">give</span> <span style=\"background-color: #ffffff\"; title=\"0.00\">a</span> <span style=\"background-color: #ffd5d5\"; title=\"0.40\">try</span> <span style=\"background-color: #ffc9c9\"; title=\"0.52\">with</span> <span style=\"background-color: #dedeff\"; title=\"-0.30\">their</span> <span style=\"background-color: #efefff\"; title=\"-0.14\">spare</span> <span style=\"background-color: #ff9090\"; title=\"1.08\">money</span> <span style=\"background-color: #fff1f1\"; title=\"0.14\">please</span> <span style=\"background-color: #cfcfff\"; title=\"-0.43\">if</span> <span style=\"background-color: #fdfdff\"; title=\"-0.02\">you</span> <span style=\"background-color: #ffd2d2\"; title=\"0.44\">know</span> <span style=\"background-color: #fdfdff\"; title=\"-0.02\">you</span> <span style=\"background-color: #fffbfb\"; title=\"0.03\">have</span> <span style=\"background-color: #a8a8ff\"; title=\"-0.79\">already</span> <span style=\"background-color: #ff9a9a\"; title=\"0.98\">invested</span> <span style=\"background-color: #bfbfff\"; title=\"-0.58\">dont</span> <span style=\"background-color: #eaeaff\"; title=\"-0.18\">participate</span> <span style=\"background-color: #fffafa\"; title=\"0.05\">in</span> <span style=\"background-color: #ffeded\"; title=\"0.17\">this</span> <span style=\"background-color: #ffdede\"; title=\"0.31\">promo</span> <span style=\"background-color: #d7d7ff\"; title=\"-0.35\">the</span> <span style=\"background-color: #ffdede\"; title=\"0.31\">promo</span> <span style=\"background-color: #fffcfc\"; title=\"0.03\">is</span> <span style=\"background-color: #ffd3d3\"; title=\"0.43\">for</span> <span style=\"background-color: #f3f3ff\"; title=\"-0.10\">those</span> <span style=\"background-color: #ffb8b8\"; title=\"0.69\">who</span> <span style=\"background-color: #f6f6ff\"; title=\"-0.08\">want</span> <span style=\"background-color: #fff2f2\"; title=\"0.13\">to</span> <span style=\"background-color: #ffd5d5\"; title=\"0.40\">give</span> <span style=\"background-color: #ffdfdf\"; title=\"0.30\">us</span> <span style=\"background-color: #ffffff\"; title=\"0.00\">a</span> <span style=\"background-color: #ffd5d5\"; title=\"0.40\">try</span> <span style=\"background-color: #ffc9c9\"; title=\"0.52\">with</span> <span style=\"background-color: #dedeff\"; title=\"-0.30\">their</span> <span style=\"background-color: #efefff\"; title=\"-0.14\">spare</span> <span style=\"background-color: #ff9090\"; title=\"1.08\">money</span> <span style=\"background-color: #fff2f2\"; title=\"0.13\">to</span> <span style=\"background-color: #fff4f4\"; title=\"0.10\">see</span> <span style=\"background-color: #ffe2e2\"; title=\"0.28\">how</span> <span style=\"background-color: #e8e8ff\"; title=\"-0.20\">we</span> <span style=\"background-color: #ffebeb\"; title=\"0.19\">work</span> <span style=\"background-color: #fffefe\"; title=\"0.01\">and</span> <span style=\"background-color: #ffeded\"; title=\"0.17\">this</span> <span style=\"background-color: #ffdede\"; title=\"0.31\">promo</span> <span style=\"background-color: #fdfdff\"; title=\"-0.01\">expire</span> <span style=\"background-color: #cdcdff\"; title=\"-0.45\">wednesday</span> <span style=\"background-color: #f8f8ff\"; title=\"-0.06\">midnight</span> <span style=\"background-color: #fffafa\"; title=\"0.05\">in</span> <span style=\"background-color: #ffeaea\"; title=\"0.20\">my</span> <span style=\"background-color: #e4e4ff\"; title=\"-0.24\">time</span> <span style=\"background-color: #ffdfdf\"; title=\"0.31\">zone</span> <span style=\"background-color: #cfcfff\"; title=\"-0.43\">so</span> <span style=\"background-color: #ff9191\"; title=\"1.07\">contact</span> <span style=\"background-color: #ffb2b2\"; title=\"0.74\">now</span> <span style=\"background-color: #fff2f2\"; title=\"0.13\">to</span> <span style=\"background-color: #ffc4c4\"; title=\"0.57\">get</span> <span style=\"background-color: #ffdbdb\"; title=\"0.35\">more</span> <span style=\"background-color: #ffbebe\"; title=\"0.63\">details</span> <span style=\"background-color: #ffb2b2\"; title=\"0.74\">now</span> <span style=\"background-color: #ffc8c8\"; title=\"0.53\">below</span> <span style=\"background-color: #fffcfc\"; title=\"0.03\">is</span> <span style=\"background-color: #d7d7ff\"; title=\"-0.35\">the</span> <span style=\"background-color: #f9f9ff\"; title=\"-0.05\">category</span> <span style=\"background-color: #fff8f8\"; title=\"0.07\">of</span> <span style=\"background-color: #d7d7ff\"; title=\"-0.35\">the</span> <span style=\"background-color: #ffdede\"; title=\"0.31\">promo</span> <span style=\"background-color: #e8e8ff\"; title=\"-0.20\">plans</span> <span style=\"background-color: #ff4e4e\"; title=\"1.72\">invest</span> <span style=\"background-color: #ff9797\"; title=\"1.01\">50</span> <span style=\"background-color: #e8e8ff\"; title=\"-0.20\">we</span> <span style=\"background-color: #ffc4c4\"; title=\"0.58\">trade</span> <span style=\"background-color: #fffefe\"; title=\"0.01\">and</span> <span style=\"background-color: #fff3f3\"; title=\"0.12\">return</span> <span style=\"background-color: #ffd6d6\"; title=\"0.40\">200</span> <span style=\"background-color: #fffafa\"; title=\"0.05\">in</span> <span style=\"background-color: #ffc7c7\"; title=\"0.54\">3hrs</span> <span style=\"background-color: #ff4e4e\"; title=\"1.72\">invest</span> <span style=\"background-color: #ff9797\"; title=\"1.01\">50</span> <span style=\"background-color: #e8e8ff\"; title=\"-0.20\">we</span> <span style=\"background-color: #ffc4c4\"; title=\"0.58\">trade</span> <span style=\"background-color: #fffefe\"; title=\"0.01\">and</span> <span style=\"background-color: #fff3f3\"; title=\"0.12\">return</span> <span style=\"background-color: #ffd9d9\"; title=\"0.37\">350</span> <span style=\"background-color: #fffafa\"; title=\"0.05\">in</span> <span style=\"background-color: #ffffff\"; title=\"0.00\">5hrs</span> <span style=\"background-color: #ff4e4e\"; title=\"1.72\">invest</span> <span style=\"background-color: #ffabab\"; title=\"0.82\">100</span> <span style=\"background-color: #e8e8ff\"; title=\"-0.20\">we</span> <span style=\"background-color: #ffc4c4\"; title=\"0.58\">trade</span> <span style=\"background-color: #fffefe\"; title=\"0.01\">and</span> <span style=\"background-color: #fff3f3\"; title=\"0.12\">return</span> <span style=\"background-color: #fffdfd\"; title=\"0.01\">650</span> <span style=\"background-color: #fffafa\"; title=\"0.05\">in</span> <span style=\"background-color: #ffffff\"; title=\"0.00\">6hrs</span> <span style=\"background-color: #ff4e4e\"; title=\"1.72\">invest</span> <span style=\"background-color: #ff9494\"; title=\"1.04\">500</span> <span style=\"background-color: #e8e8ff\"; title=\"-0.20\">we</span> <span style=\"background-color: #ffc4c4\"; title=\"0.58\">trade</span> <span style=\"background-color: #fffefe\"; title=\"0.01\">and</span> <span style=\"background-color: #fff3f3\"; title=\"0.12\">return</span> <span style=\"background-color: #ffffff\"; title=\"0.00\">4800</span> <span style=\"background-color: #fffafa\"; title=\"0.05\">in</span> <span style=\"background-color: #ffffff\"; title=\"0.00\">14hrs</span> <span style=\"background-color: #ff9494\"; title=\"1.04\">500</span> <span style=\"background-color: #fffcfc\"; title=\"0.03\">is</span> <span style=\"background-color: #d7d7ff\"; title=\"-0.35\">the</span> <span style=\"background-color: #fff3f3\"; title=\"0.11\">highest</span> <span style=\"background-color: #fff2f2\"; title=\"0.13\">to</span> <span style=\"background-color: #ff4e4e\"; title=\"1.72\">invest</span> <span style=\"background-color: #fffafa\"; title=\"0.05\">in</span> <span style=\"background-color: #ffeded\"; title=\"0.17\">this</span> <span style=\"background-color: #ffdede\"; title=\"0.31\">promo</span> <span style=\"background-color: #ff9191\"; title=\"1.07\">contact</span> <span style=\"background-color: #ffb2b2\"; title=\"0.74\">now</span> <span style=\"background-color: #fff2f2\"; title=\"0.13\">to</span> <span style=\"background-color: #fff4f4\"; title=\"0.10\">see</span> <span style=\"background-color: #ffe2e2\"; title=\"0.28\">how</span> <span style=\"background-color: #e8e8ff\"; title=\"-0.20\">we</span> <span style=\"background-color: #ffebeb\"; title=\"0.19\">work</span> <span style=\"background-color: #fcfcff\"; title=\"-0.02\">clear</span> <span style=\"background-color: #ffb5b5\"; title=\"0.72\">your</span> <span style=\"background-color: #fdfdff\"; title=\"-0.01\">doubts</span> <span style=\"background-color: #ffc9c9\"; title=\"0.52\">with</span> <span style=\"background-color: #ffeded\"; title=\"0.17\">this</span> <span style=\"background-color: #ffdede\"; title=\"0.31\">promo</span> <span style=\"background-color: #ffeeee\"; title=\"0.16\">today</span> <span style=\"background-color: #ff7474\"; title=\"1.35\">payment</span> <span style=\"background-color: #fff9f9\"; title=\"0.06\">methods</span> <span style=\"background-color: #fff8f8\"; title=\"0.07\">are</span> <span style=\"background-color: #ff7979\"; title=\"1.31\">bitcoin</span> <span style=\"background-color: #fffefe\"; title=\"0.00\">skrill</span> <span style=\"background-color: #ff9191\"; title=\"1.07\">contact</span> <span style=\"background-color: #fffafa\"; title=\"0.04\">admin</span> <span style=\"background-color: #fff2f2\"; title=\"0.13\">to</span> <span style=\"background-color: #ffd3d3\"; title=\"0.43\">start</span> <span style=\"background-color: #ff5a5a\"; title=\"1.60\">earn</span> </p>"
      ],
      "text/plain": [
       "<IPython.core.display.HTML object>"
      ]
     },
     "metadata": {},
     "output_type": "display_data"
    },
    {
     "name": "stdout",
     "output_type": "stream",
     "text": [
      "spam: True\n"
     ]
    },
    {
     "data": {
      "text/html": [
       "\n",
       "    <p style=\"font-size:16px; color:#000000; border: 2px solid #000; text-align: justify; background-color:#ffffff; border-radius: 25px; padding: 20px;\">\n",
       "    <span style=\"background-color: #fafaff\"; title=\"-0.04\">ebay</span> <span style=\"background-color: #f0f0ff\"; title=\"-0.13\">auction</span> <span style=\"background-color: #ffe6e6\"; title=\"0.24\">news</span> <span style=\"background-color: #fffafa\"; title=\"0.04\">recommended</span> <span style=\"background-color: #fff4f4\"; title=\"0.10\">resource</span> <span style=\"background-color: #ffd8d8\"; title=\"0.38\">special</span> <span style=\"background-color: #e4e4ff\"; title=\"-0.24\">edition</span> <span style=\"background-color: #eeeeff\"; title=\"-0.15\">monday</span> <span style=\"background-color: #cacaff\"; title=\"-0.48\">august</span> <span style=\"background-color: #fffbfb\"; title=\"0.04\">1635465th</span> <span style=\"background-color: #f8f8ff\"; title=\"-0.06\">1635465</span> <span style=\"background-color: #fff2f2\"; title=\"0.12\">multiple</span> <span style=\"background-color: #ffe1e1\"; title=\"0.29\">streams</span> <span style=\"background-color: #fff8f8\"; title=\"0.07\">of</span> <span style=\"background-color: #fffefe\"; title=\"0.00\">revenue</span> <span style=\"background-color: #fff9f9\"; title=\"0.06\">using</span> <span style=\"background-color: #fafaff\"; title=\"-0.04\">ebay</span> <span style=\"background-color: #fffefe\"; title=\"0.01\">and</span> <span style=\"background-color: #ffe1e1\"; title=\"0.29\">internet</span> <span style=\"background-color: #ff6868\"; title=\"1.47\">free</span> <span style=\"background-color: #f0f0ff\"; title=\"-0.13\">auction</span> <span style=\"background-color: #ffdcdc\"; title=\"0.34\">profits</span> <span style=\"background-color: #ffffff\"; title=\"0.00\">toolkit</span> <span style=\"background-color: #fffefe\"; title=\"0.01\">and</span> <span style=\"background-color: #ff6868\"; title=\"1.47\">free</span> <span style=\"background-color: #ddddff\"; title=\"-0.30\">training</span> <span style=\"background-color: #cbcbff\"; title=\"-0.47\">class</span> <span style=\"background-color: #ffd3d3\"; title=\"0.43\">for</span> <span style=\"background-color: #d7d7ff\"; title=\"-0.35\">the</span> <span style=\"background-color: #ffc1c1\"; title=\"0.60\">first</span> <span style=\"background-color: #f8f8ff\"; title=\"-0.06\">1635465</span> <span style=\"background-color: #fffbfb\"; title=\"0.03\">respondents</span> <span style=\"background-color: #fdfdff\"; title=\"-0.02\">you</span> <span style=\"background-color: #fffbfb\"; title=\"0.03\">have</span> <span style=\"background-color: #ffd6d6\"; title=\"0.39\">been</span> <span style=\"background-color: #ffe6e6\"; title=\"0.24\">selected</span> <span style=\"background-color: #fff2f2\"; title=\"0.13\">to</span> <span style=\"background-color: #eaeaff\"; title=\"-0.18\">participate</span> <span style=\"background-color: #fffafa\"; title=\"0.05\">in</span> <span style=\"background-color: #ffeded\"; title=\"0.17\">this</span> <span style=\"background-color: #ff6868\"; title=\"1.47\">free</span> <span style=\"background-color: #ffb6b6\"; title=\"0.71\">offer</span> <span style=\"background-color: #ffeded\"; title=\"0.17\">this</span> <span style=\"background-color: #fafaff\"; title=\"-0.04\">ebay</span> <span style=\"background-color: #fffefe\"; title=\"0.01\">and</span> <span style=\"background-color: #ffe1e1\"; title=\"0.29\">internet</span> <span style=\"background-color: #ffffff\"; title=\"0.00\">e</span> <span style=\"background-color: #ffd8d8\"; title=\"0.38\">course</span> <span style=\"background-color: #ffb4b4\"; title=\"0.73\">live</span> <span style=\"background-color: #ffe5e5\"; title=\"0.25\">web</span> <span style=\"background-color: #ddddff\"; title=\"-0.30\">training</span> <span style=\"background-color: #a4a4ff\"; title=\"-0.82\">conference</span> <span style=\"background-color: #fffefe\"; title=\"0.01\">and</span> <span style=\"background-color: #f0f0ff\"; title=\"-0.13\">auction</span> <span style=\"background-color: #ff4949\"; title=\"1.77\">profit</span> <span style=\"background-color: #ffffff\"; title=\"0.00\">toolkit</span> <span style=\"background-color: #f5f5ff\"; title=\"-0.08\">could</span> <span style=\"background-color: #fff6f6\"; title=\"0.08\">easily</span> <span style=\"background-color: #ff8b8b\"; title=\"1.13\">sell</span> <span style=\"background-color: #ffd3d3\"; title=\"0.43\">for</span> <span style=\"background-color: #f8f8ff\"; title=\"-0.06\">1635465</span> <span style=\"background-color: #babaff\"; title=\"-0.62\">but</span> <span style=\"background-color: #ececff\"; title=\"-0.17\">it</span> <span style=\"background-color: #ffffff\"; title=\"0.00\">s</span> <span style=\"background-color: #ffdddd\"; title=\"0.33\">yours</span> <span style=\"background-color: #fff9f9\"; title=\"0.05\">absolutely</span> <span style=\"background-color: #ff6868\"; title=\"1.47\">free</span> <span style=\"background-color: #ffeded\"; title=\"0.17\">this</span> <span style=\"background-color: #ffd8d8\"; title=\"0.38\">special</span> <span style=\"background-color: #ff6868\"; title=\"1.47\">free</span> <span style=\"background-color: #ffb6b6\"; title=\"0.71\">offer</span> <span style=\"background-color: #d0d0ff\"; title=\"-0.42\">has</span> <span style=\"background-color: #ffd6d6\"; title=\"0.39\">been</span> <span style=\"background-color: #ffcbcb\"; title=\"0.50\">brought</span> <span style=\"background-color: #fff2f2\"; title=\"0.13\">to</span> <span style=\"background-color: #fdfdff\"; title=\"-0.02\">you</span> <span style=\"background-color: #ffe7e7\"; title=\"0.23\">by</span> <span style=\"background-color: #ffb5b5\"; title=\"0.72\">your</span> <span style=\"background-color: #ffe2e2\"; title=\"0.27\">friends</span> <span style=\"background-color: #fff3f3\"; title=\"0.11\">at</span> <span style=\"background-color: #fafaff\"; title=\"-0.04\">ebay</span> <span style=\"background-color: #f0f0ff\"; title=\"-0.13\">auction</span> <span style=\"background-color: #ffe6e6\"; title=\"0.24\">news</span> <span style=\"background-color: #fff2f2\"; title=\"0.12\">craig</span> <span style=\"background-color: #ffffff\"; title=\"0.00\">meyer</span> <span style=\"background-color: #d7d7ff\"; title=\"-0.35\">the</span> <span style=\"background-color: #f0f0ff\"; title=\"-0.13\">auction</span> <span style=\"background-color: #fffbfb\"; title=\"0.03\">man</span> <span style=\"background-color: #d0d0ff\"; title=\"-0.42\">has</span> <span style=\"background-color: #d1d1ff\"; title=\"-0.41\">agreed</span> <span style=\"background-color: #fff2f2\"; title=\"0.13\">to</span> <span style=\"background-color: #fff8f8\"; title=\"0.06\">provide</span> <span style=\"background-color: #fdfdff\"; title=\"-0.02\">you</span> <span style=\"background-color: #ffffff\"; title=\"0.00\">a</span> <span style=\"background-color: #ff6868\"; title=\"1.47\">free</span> <span style=\"background-color: #ffb4b4\"; title=\"0.73\">live</span> <span style=\"background-color: #ddddff\"; title=\"-0.30\">training</span> <span style=\"background-color: #cbcbff\"; title=\"-0.47\">class</span> <span style=\"background-color: #bdbdff\"; title=\"-0.59\">that</span> <span style=\"background-color: #fdfdff\"; title=\"-0.02\">you</span> <span style=\"background-color: #ffaaaa\"; title=\"0.83\">won</span> <span style=\"background-color: #ffffff\"; title=\"0.00\">t</span> <span style=\"background-color: #f6f6ff\"; title=\"-0.08\">want</span> <span style=\"background-color: #fff2f2\"; title=\"0.13\">to</span> <span style=\"background-color: #fefeff\"; title=\"-0.00\">miss</span> <span style=\"background-color: #fdfdff\"; title=\"-0.02\">you</span> <span style=\"background-color: #a9a9ff\"; title=\"-0.78\">might</span> <span style=\"background-color: #d7d7ff\"; title=\"-0.36\">say</span> <span style=\"background-color: #fff2f2\"; title=\"0.12\">craig</span> <span style=\"background-color: #ffffff\"; title=\"0.00\">meyer</span> <span style=\"background-color: #d7d7ff\"; title=\"-0.35\">the</span> <span style=\"background-color: #f0f0ff\"; title=\"-0.13\">auction</span> <span style=\"background-color: #fffbfb\"; title=\"0.03\">man</span> <span style=\"background-color: #bdbdff\"; title=\"-0.59\">that</span> <span style=\"background-color: #ffffff\"; title=\"0.00\">s</span> <span style=\"background-color: #fcfcff\"; title=\"-0.02\">because</span> <span style=\"background-color: #ffe9e9\"; title=\"0.21\">most</span> <span style=\"background-color: #fff8f8\"; title=\"0.07\">of</span> <span style=\"background-color: #fdfdff\"; title=\"-0.02\">you</span> <span style=\"background-color: #aaaaff\"; title=\"-0.77\">remember</span> <span style=\"background-color: #fff2f2\"; title=\"0.12\">craig</span> <span style=\"background-color: #ddddff\"; title=\"-0.31\">as</span> <span style=\"background-color: #d7d7ff\"; title=\"-0.35\">the</span> <span style=\"background-color: #ffa6a6\"; title=\"0.86\">real</span> <span style=\"background-color: #ffd2d2\"; title=\"0.44\">estate</span> <span style=\"background-color: #ffffff\"; title=\"0.00\">guru</span> <span style=\"background-color: #ffb8b8\"; title=\"0.69\">who</span> <span style=\"background-color: #fffafa\"; title=\"0.05\">in</span> <span style=\"background-color: #f8f8ff\"; title=\"-0.06\">1635465</span> <span style=\"background-color: #ffd4d4\"; title=\"0.42\">helped</span> <span style=\"background-color: #ffdddd\"; title=\"0.33\">over</span> <span style=\"background-color: #f8f8ff\"; title=\"-0.06\">1635465</span> <span style=\"background-color: #f8f8ff\"; title=\"-0.06\">1635465</span> <span style=\"background-color: #fdfdff\"; title=\"-0.01\">families</span> <span style=\"background-color: #ff9a9a\"; title=\"0.99\">buy</span> <span style=\"background-color: #dedeff\"; title=\"-0.30\">their</span> <span style=\"background-color: #ffe6e6\"; title=\"0.24\">own</span> </p>"
      ],
      "text/plain": [
       "<IPython.core.display.HTML object>"
      ]
     },
     "metadata": {},
     "output_type": "display_data"
    },
    {
     "name": "stdout",
     "output_type": "stream",
     "text": [
      "spam: False\n"
     ]
    },
    {
     "data": {
      "text/html": [
       "\n",
       "    <p style=\"font-size:16px; color:#000000; border: 2px solid #000; text-align: justify; background-color:#ffffff; border-radius: 25px; padding: 20px;\">\n",
       "    <span style=\"background-color: #e0e0ff\"; title=\"-0.28\">input</span> <span style=\"background-color: #fafaff\"; title=\"-0.04\">await</span> <span style=\"background-color: #ffffff\"; title=\"0.00\">app2stop</span> <span style=\"background-color: #9292ff\"; title=\"-0.98\">output</span> <span style=\"background-color: #f6f6ff\"; title=\"-0.07\">traceback</span> <span style=\"background-color: #ffe9e9\"; title=\"0.21\">most</span> <span style=\"background-color: #d6d6ff\"; title=\"-0.36\">recent</span> <span style=\"background-color: #ff9f9f\"; title=\"0.94\">call</span> <span style=\"background-color: #e1e1ff\"; title=\"-0.26\">last</span> <span style=\"background-color: #c9c9ff\"; title=\"-0.48\">file</span> <span style=\"background-color: #ffffff\"; title=\"0.00\">homehamkerwilliambutcherbotwbbmodulesuserbotpy</span> <span style=\"background-color: #c9c9ff\"; title=\"-0.49\">line</span> <span style=\"background-color: #f6f6ff\"; title=\"-0.08\">78</span> <span style=\"background-color: #fffafa\"; title=\"0.05\">in</span> <span style=\"background-color: #ffffff\"; title=\"0.00\">executor</span> <span style=\"background-color: #fafaff\"; title=\"-0.04\">await</span> <span style=\"background-color: #ffffff\"; title=\"0.00\">aexeccmd</span> <span style=\"background-color: #ededff\"; title=\"-0.16\">client</span> <span style=\"background-color: #ffc1c1\"; title=\"0.60\">message</span> <span style=\"background-color: #c9c9ff\"; title=\"-0.48\">file</span> <span style=\"background-color: #ffffff\"; title=\"0.00\">homehamkerwilliambutcherbotwbbmodulesuserbotpy</span> <span style=\"background-color: #c9c9ff\"; title=\"-0.49\">line</span> <span style=\"background-color: #f3f3ff\"; title=\"-0.11\">47</span> <span style=\"background-color: #fffafa\"; title=\"0.05\">in</span> <span style=\"background-color: #ffffff\"; title=\"0.00\">aexec</span> <span style=\"background-color: #fff3f3\"; title=\"0.12\">return</span> <span style=\"background-color: #fafaff\"; title=\"-0.04\">await</span> <span style=\"background-color: #ffffff\"; title=\"0.00\">localsaexecclient</span> <span style=\"background-color: #ffc1c1\"; title=\"0.60\">message</span> <span style=\"background-color: #c9c9ff\"; title=\"-0.48\">file</span> <span style=\"background-color: #f8f8ff\"; title=\"-0.06\">string</span> <span style=\"background-color: #c9c9ff\"; title=\"-0.49\">line</span> <span style=\"background-color: #ffffff\"; title=\"0.00\">2</span> <span style=\"background-color: #fffafa\"; title=\"0.05\">in</span> <span style=\"background-color: #ffffff\"; title=\"0.00\">aexec</span> <span style=\"background-color: #c9c9ff\"; title=\"-0.48\">file</span> <span style=\"background-color: #ffffff\"; title=\"0.00\">homehamkerlocallibpython39sitepackagespyrogrammethodsutilitiesstoppy</span> <span style=\"background-color: #c9c9ff\"; title=\"-0.49\">line</span> <span style=\"background-color: #ffeded\"; title=\"0.18\">59</span> <span style=\"background-color: #fffafa\"; title=\"0.05\">in</span> <span style=\"background-color: #ff9c9c\"; title=\"0.96\">stop</span> <span style=\"background-color: #fafaff\"; title=\"-0.04\">await</span> <span style=\"background-color: #ffffff\"; title=\"0.00\">doit</span> <span style=\"background-color: #c9c9ff\"; title=\"-0.48\">file</span> <span style=\"background-color: #ffffff\"; title=\"0.00\">homehamkerlocallibpython39sitepackagespyrogrammethodsutilitiesstoppy</span> <span style=\"background-color: #c9c9ff\"; title=\"-0.49\">line</span> <span style=\"background-color: #ededff\"; title=\"-0.16\">55</span> <span style=\"background-color: #fffafa\"; title=\"0.05\">in</span> <span style=\"background-color: #ffffff\"; title=\"0.00\">doit</span> <span style=\"background-color: #fafaff\"; title=\"-0.04\">await</span> <span style=\"background-color: #ffffff\"; title=\"0.00\">selfterminate</span> <span style=\"background-color: #c9c9ff\"; title=\"-0.48\">file</span> <span style=\"background-color: #ffffff\"; title=\"0.00\">homehamkerlocallibpython39sitepackagespyrogrammethodsauthterminatepy</span> <span style=\"background-color: #c9c9ff\"; title=\"-0.49\">line</span> <span style=\"background-color: #fefeff\"; title=\"-0.01\">46</span> <span style=\"background-color: #fffafa\"; title=\"0.05\">in</span> <span style=\"background-color: #f0f0ff\"; title=\"-0.13\">terminate</span> <span style=\"background-color: #fafaff\"; title=\"-0.04\">await</span> <span style=\"background-color: #ffffff\"; title=\"0.00\">selfdispatcherstop</span> <span style=\"background-color: #c9c9ff\"; title=\"-0.48\">file</span> <span style=\"background-color: #ffffff\"; title=\"0.00\">homehamker</span> </p>"
      ],
      "text/plain": [
       "<IPython.core.display.HTML object>"
      ]
     },
     "metadata": {},
     "output_type": "display_data"
    },
    {
     "name": "stdout",
     "output_type": "stream",
     "text": [
      "spam: False\n"
     ]
    },
    {
     "data": {
      "text/html": [
       "\n",
       "    <p style=\"font-size:16px; color:#000000; border: 2px solid #000; text-align: justify; background-color:#ffffff; border-radius: 25px; padding: 20px;\">\n",
       "    <span style=\"background-color: #ffc1c1\"; title=\"0.60\">final</span> <span style=\"background-color: #ffbebe\"; title=\"0.63\">details</span> <span style=\"background-color: #ffd3d3\"; title=\"0.43\">for</span> <span style=\"background-color: #9f9fff\"; title=\"-0.86\">energy</span> <span style=\"background-color: #ffd8d8\"; title=\"0.38\">course</span> <span style=\"background-color: #fffdfd\"; title=\"0.01\">hi</span> <span style=\"background-color: #fff8f8\"; title=\"0.06\">just</span> <span style=\"background-color: #fffdfd\"; title=\"0.01\">wanted</span> <span style=\"background-color: #fff2f2\"; title=\"0.13\">to</span> <span style=\"background-color: #aeaeff\"; title=\"-0.73\">let</span> <span style=\"background-color: #fdfdff\"; title=\"-0.02\">you</span> <span style=\"background-color: #ffd2d2\"; title=\"0.44\">know</span> <span style=\"background-color: #c5c5ff\"; title=\"-0.52\">some</span> <span style=\"background-color: #ffc1c1\"; title=\"0.60\">final</span> <span style=\"background-color: #ffbebe\"; title=\"0.63\">details</span> <span style=\"background-color: #eeeeff\"; title=\"-0.15\">about</span> <span style=\"background-color: #d7d7ff\"; title=\"-0.35\">the</span> <span style=\"background-color: #ffd8d8\"; title=\"0.38\">course</span> <span style=\"background-color: #ffd8d8\"; title=\"0.38\">course</span> <span style=\"background-color: #fffafa\"; title=\"0.04\">titles</span> <span style=\"background-color: #9f9fff\"; title=\"-0.86\">energy</span> <span style=\"background-color: #d5d5ff\"; title=\"-0.38\">derivatives</span> <span style=\"background-color: #e5e5ff\"; title=\"-0.23\">pricing</span> <span style=\"background-color: #fffefe\"; title=\"0.01\">and</span> <span style=\"background-color: #fff1f1\"; title=\"0.13\">risk</span> <span style=\"background-color: #c5c5ff\"; title=\"-0.52\">management</span> <span style=\"background-color: #fffefe\"; title=\"0.01\">and</span> <span style=\"background-color: #fff7f7\"; title=\"0.08\">or</span> <span style=\"background-color: #e3e3ff\"; title=\"-0.25\">var</span> <span style=\"background-color: #ffd3d3\"; title=\"0.43\">for</span> <span style=\"background-color: #9f9fff\"; title=\"-0.86\">energy</span> <span style=\"background-color: #cacaff\"; title=\"-0.47\">markets</span> <span style=\"background-color: #fefeff\"; title=\"-0.00\">venue</span> <span style=\"background-color: #ffbebe\"; title=\"0.63\">details</span> <span style=\"background-color: #fff8f8\"; title=\"0.06\">dates</span> <span style=\"background-color: #fff8f8\"; title=\"0.06\">29</span> <span style=\"background-color: #f5f5ff\"; title=\"-0.08\">31</span> <span style=\"background-color: #fafaff\"; title=\"-0.04\">march</span> <span style=\"background-color: #fcfcff\"; title=\"-0.02\">location</span> <span style=\"background-color: #fefeff\"; title=\"-0.00\">hyatt</span> <span style=\"background-color: #fff5f5\"; title=\"0.09\">regency</span> <span style=\"background-color: #f7f7ff\"; title=\"-0.07\">downtown</span> <span style=\"background-color: #a5a5ff\"; title=\"-0.81\">houston</span> <span style=\"background-color: #fffcfc\"; title=\"0.03\">1200</span> <span style=\"background-color: #f9f9ff\"; title=\"-0.05\">louisiana</span> <span style=\"background-color: #f7f7ff\"; title=\"-0.07\">street</span> <span style=\"background-color: #a5a5ff\"; title=\"-0.81\">houston</span> <span style=\"background-color: #e3e3ff\"; title=\"-0.25\">phone</span> <span style=\"background-color: #c0c0ff\"; title=\"-0.57\">713</span> <span style=\"background-color: #fefeff\"; title=\"-0.00\">654</span> <span style=\"background-color: #fefeff\"; title=\"-0.00\">1234</span> <span style=\"background-color: #e2e2ff\"; title=\"-0.26\">schedule</span> <span style=\"background-color: #f7f7ff\"; title=\"-0.07\">continental</span> <span style=\"background-color: #fefeff\"; title=\"-0.01\">breakfast</span> <span style=\"background-color: #ffffff\"; title=\"0.00\">8</span> <span style=\"background-color: #fffafa\"; title=\"0.04\">30</span> <span style=\"background-color: #e4e4ff\"; title=\"-0.24\">am</span> <span style=\"background-color: #ffd3d3\"; title=\"0.43\">start</span> <span style=\"background-color: #ffffff\"; title=\"0.00\">9</span> <span style=\"background-color: #e4e4ff\"; title=\"-0.24\">am</span> <span style=\"background-color: #fefeff\"; title=\"-0.01\">beverage</span> <span style=\"background-color: #fffdfd\"; title=\"0.01\">break</span> <span style=\"background-color: #ffeded\"; title=\"0.17\">10</span> <span style=\"background-color: #fffafa\"; title=\"0.04\">30</span> <span style=\"background-color: #e4e4ff\"; title=\"-0.24\">11</span> <span style=\"background-color: #c9c9ff\"; title=\"-0.48\">00</span> <span style=\"background-color: #f5f5ff\"; title=\"-0.09\">buffet</span> <span style=\"background-color: #a8a8ff\"; title=\"-0.78\">lunch</span> <span style=\"background-color: #fefeff\"; title=\"-0.00\">served</span> <span style=\"background-color: #fffafa\"; title=\"0.05\">in</span> <span style=\"background-color: #ffd8d8\"; title=\"0.38\">course</span> <span style=\"background-color: #f1f1ff\"; title=\"-0.12\">room</span> <span style=\"background-color: #ffeeee\"; title=\"0.16\">12</span> <span style=\"background-color: #fffafa\"; title=\"0.04\">30</span> <span style=\"background-color: #ffffff\"; title=\"0.00\">1</span> <span style=\"background-color: #fffafa\"; title=\"0.04\">30</span> <span style=\"background-color: #ffeded\"; title=\"0.17\">pm</span> <span style=\"background-color: #fff3f3\"; title=\"0.11\">snack</span> <span style=\"background-color: #fffdfd\"; title=\"0.01\">break</span> <span style=\"background-color: #ffffff\"; title=\"0.00\">3</span> <span style=\"background-color: #fffafa\"; title=\"0.04\">30</span> <span style=\"background-color: #ffffff\"; title=\"0.00\">4</span> <span style=\"background-color: #c9c9ff\"; title=\"-0.48\">00</span> <span style=\"background-color: #ffeded\"; title=\"0.17\">pm</span> <span style=\"background-color: #efefff\"; title=\"-0.14\">end</span> <span style=\"background-color: #f5f5ff\"; title=\"-0.09\">approx</span> <span style=\"background-color: #ffffff\"; title=\"0.00\">5</span> <span style=\"background-color: #fffafa\"; title=\"0.04\">30</span> <span style=\"background-color: #ffeded\"; title=\"0.17\">pm</span> <span style=\"background-color: #ffd8d8\"; title=\"0.38\">course</span> <span style=\"background-color: #fffcfc\"; title=\"0.03\">leaders</span> <span style=\"background-color: #ffeeee\"; title=\"0.17\">dr</span> <span style=\"background-color: #f2f2ff\"; title=\"-0.11\">les</span> <span style=\"background-color: #fdfdff\"; title=\"-0.01\">clewlow</span> <span style=\"background-color: #fffefe\"; title=\"0.01\">and</span> <span style=\"background-color: #ffeeee\"; title=\"0.17\">dr</span> <span style=\"background-color: #ededff\"; title=\"-0.16\">chris</span> <span style=\"background-color: #fdfdff\"; title=\"-0.01\">strickland</span> <span style=\"background-color: #f6f6ff\"; title=\"-0.07\">lacima</span> <span style=\"background-color: #fefeff\"; title=\"-0.01\">consultants</span> <span style=\"background-color: #fff1f1\"; title=\"0.14\">please</span> <span style=\"background-color: #aeaeff\"; title=\"-0.73\">let</span> <span style=\"background-color: #ececff\"; title=\"-0.17\">me</span> <span style=\"background-color: #ffd2d2\"; title=\"0.44\">know</span> <span style=\"background-color: #cfcfff\"; title=\"-0.43\">if</span> <span style=\"background-color: #fdfdff\"; title=\"-0.02\">you</span> <span style=\"background-color: #fff3f3\"; title=\"0.11\">need</span> <span style=\"background-color: #ceceff\"; title=\"-0.44\">anything</span> <span style=\"background-color: #ffeded\"; title=\"0.17\">further</span> <span style=\"background-color: #ffe9e9\"; title=\"0.21\">thanks</span> <span style=\"background-color: #fffefe\"; title=\"0.01\">and</span> <span style=\"background-color: #ffc7c7\"; title=\"0.54\">enjoy</span> <span style=\"background-color: #d7d7ff\"; title=\"-0.35\">the</span> <span style=\"background-color: #ffd8d8\"; title=\"0.38\">course</span> <span style=\"background-color: #dadaff\"; title=\"-0.33\">sincerely</span> <span style=\"background-color: #f1f1ff\"; title=\"-0.12\">julie</span> <span style=\"background-color: #f6f6ff\"; title=\"-0.07\">lacima</span> <span style=\"background-color: #fefeff\"; title=\"-0.01\">consultants</span> </p>"
      ],
      "text/plain": [
       "<IPython.core.display.HTML object>"
      ]
     },
     "metadata": {},
     "output_type": "display_data"
    },
    {
     "name": "stdout",
     "output_type": "stream",
     "text": [
      "spam: False\n"
     ]
    },
    {
     "data": {
      "text/html": [
       "\n",
       "    <p style=\"font-size:16px; color:#000000; border: 2px solid #000; text-align: justify; background-color:#ffffff; border-radius: 25px; padding: 20px;\">\n",
       "    <span style=\"background-color: #bdbdff\"; title=\"-0.60\">its</span> <span style=\"background-color: #dedeff\"; title=\"-0.30\">still</span> <span style=\"background-color: #d8d8ff\"; title=\"-0.35\">not</span> <span style=\"background-color: #9494ff\"; title=\"-0.97\">working</span> <span style=\"background-color: #fffefe\"; title=\"0.01\">and</span> <span style=\"background-color: #ffeded\"; title=\"0.17\">this</span> <span style=\"background-color: #e4e4ff\"; title=\"-0.24\">time</span> <span style=\"background-color: #ffffff\"; title=\"0.00\">i</span> <span style=\"background-color: #e5e5ff\"; title=\"-0.23\">also</span> <span style=\"background-color: #ffe3e3\"; title=\"0.27\">tried</span> <span style=\"background-color: #dcdcff\"; title=\"-0.32\">adding</span> <span style=\"background-color: #ffffff\"; title=\"0.00\">zeros</span> <span style=\"background-color: #bdbdff\"; title=\"-0.59\">that</span> <span style=\"background-color: #f8f8ff\"; title=\"-0.06\">was</span> <span style=\"background-color: #d7d7ff\"; title=\"-0.35\">the</span> <span style=\"background-color: #ffd4d4\"; title=\"0.41\">savings</span> <span style=\"background-color: #d7d7ff\"; title=\"-0.35\">the</span> <span style=\"background-color: #f8f8ff\"; title=\"-0.05\">checking</span> <span style=\"background-color: #fffcfc\"; title=\"0.03\">is</span> <span style=\"background-color: #4c4cff\"; title=\"-1.62\">ltgt</span> </p>"
      ],
      "text/plain": [
       "<IPython.core.display.HTML object>"
      ]
     },
     "metadata": {},
     "output_type": "display_data"
    },
    {
     "name": "stdout",
     "output_type": "stream",
     "text": [
      "spam: False\n"
     ]
    },
    {
     "data": {
      "text/html": [
       "\n",
       "    <p style=\"font-size:16px; color:#000000; border: 2px solid #000; text-align: justify; background-color:#ffffff; border-radius: 25px; padding: 20px;\">\n",
       "    <span style=\"background-color: #c4c4ff\"; title=\"-0.53\">im</span> <span style=\"background-color: #a7a7ff\"; title=\"-0.79\">trying</span> <span style=\"background-color: #fff2f2\"; title=\"0.13\">to</span> <span style=\"background-color: #ffc7c7\"; title=\"0.54\">make</span> <span style=\"background-color: #ececff\"; title=\"-0.17\">it</span> <span style=\"background-color: #ffe2e2\"; title=\"0.28\">such</span> <span style=\"background-color: #bdbdff\"; title=\"-0.59\">that</span> <span style=\"background-color: #bdbdff\"; title=\"-0.60\">its</span> <span style=\"background-color: #e1e1ff\"; title=\"-0.27\">based</span> <span style=\"background-color: #ffe6e6\"; title=\"0.24\">off</span> <span style=\"background-color: #ffffff\"; title=\"0.00\">a</span> <span style=\"background-color: #e6e6ff\"; title=\"-0.23\">users</span> <span style=\"background-color: #fffefe\"; title=\"0.01\">stated</span> <span style=\"background-color: #eaeaff\"; title=\"-0.19\">username</span> </p>"
      ],
      "text/plain": [
       "<IPython.core.display.HTML object>"
      ]
     },
     "metadata": {},
     "output_type": "display_data"
    }
   ],
   "source": [
    "y_val_proba = clf.predict_proba(X_test_vect)[:, 1]  \n",
    "token2id = {token: i for i, token in enumerate(vectorizer.get_feature_names_out())}\n",
    "importance = clf.coef_[0]\n",
    "min_importance = importance.min()\n",
    "max_importance = importance.max()\n",
    "TOKEN_PATTERN = \"(?:\\w|\\')+\"\n",
    "ids = [6, 13, 23, 34, 35, 40]\n",
    "for i in ids:\n",
    "    review_body = X_test.iloc[i]\n",
    "    print(f'spam: {bool(y_test.values[i])}')\n",
    "    review_tokens = re.findall(TOKEN_PATTERN, review_body.lower())\n",
    "    html_string = '''\n",
    "    <p style=\"font-size:16px; color:#000000; border: 2px solid #000; text-align: justify; background-color:#ffffff; border-radius: 25px; padding: 20px;\">\n",
    "    '''\n",
    "    for token in review_tokens:\n",
    "        if token in token2id:\n",
    "            weight = importance[token2id[token]]\n",
    "            if weight < 0:\n",
    "                component = hex(int(255 - 255 * weight / min_importance))[2:]\n",
    "                color = f'{component}{component}ff'\n",
    "            else:\n",
    "                component = hex(int(255 - 255 * weight / max_importance))[2:]\n",
    "                color = f'ff{component}{component}'\n",
    "        else:\n",
    "            weight = 0.0\n",
    "            color = 'ffffff'\n",
    "        html_string += f'<span style=\"background-color: #{color}\"; title=\"{weight:.2f}\">{token}</span> '\n",
    "    html_string += '</p>'\n",
    "    display(HTML(html_string))"
   ]
  },
  {
   "cell_type": "code",
   "execution_count": null,
   "id": "5d421fd1",
   "metadata": {},
   "outputs": [],
   "source": []
  }
 ],
 "metadata": {
  "kernelspec": {
   "display_name": "Python 3 (ipykernel)",
   "language": "python",
   "name": "python3"
  },
  "language_info": {
   "codemirror_mode": {
    "name": "ipython",
    "version": 3
   },
   "file_extension": ".py",
   "mimetype": "text/x-python",
   "name": "python",
   "nbconvert_exporter": "python",
   "pygments_lexer": "ipython3",
   "version": "3.11.5"
  }
 },
 "nbformat": 4,
 "nbformat_minor": 5
}
